{
 "cells": [
  {
   "cell_type": "markdown",
   "metadata": {},
   "source": [
    " Config files\n",
    "\n",
    "Multiple config files are supplied in this repository for users to addapt to their own problems. Each provided config is supplied with it's own documentation detailing what the fields do.\n",
    "\n",
    "[pygor_demo_config](pygor_demo_config.json), Documentation: [PYGOR_DEMO_CONFIG](PYGOR_DEMO_CONFIG.ipynb)\n",
    "\n",
    "<video src=\"Algorithm_overview/movie.mp4\" poster=\"0.png\" width=\"320\" height=\"200\" controls preload></video>\n"
   ]
  },
  {
   "cell_type": "code",
   "execution_count": null,
   "metadata": {},
   "outputs": [],
   "source": []
  }
 ],
 "metadata": {
  "kernelspec": {
   "display_name": "Python 3",
   "language": "python",
   "name": "python3"
  },
  "language_info": {
   "codemirror_mode": {
    "name": "ipython",
    "version": 3
   },
   "file_extension": ".py",
   "mimetype": "text/x-python",
   "name": "python",
   "nbconvert_exporter": "python",
   "pygments_lexer": "ipython3",
   "version": "3.6.11"
  }
 },
 "nbformat": 4,
 "nbformat_minor": 2
}
