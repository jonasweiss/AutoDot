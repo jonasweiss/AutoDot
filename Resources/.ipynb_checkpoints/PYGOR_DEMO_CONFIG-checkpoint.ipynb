{
 "cells": [
  {
   "cell_type": "markdown",
   "metadata": {},
   "source": [
    "# Config \n",
    "structure Here is an [example config file](pygor_demo_config.json) containing all the relevant fields and below is a discussion about each fields function \n",
    "\n",
    "``` \"path_to_pygor\":\"/path_to/pygor/package\" ``` \n",
    "Absolute path to pygor package. (only required if using pygor) \n",
    "\n",
    "``` \"ip\":\"http://123.123.123.12:8000/RPC2\" ``` \n",
    "URL of pygor server. If not specified mock device is built (only required if using pygor) \n",
    "\n",
    "``` \"gates\":[\"c10\",\"c3\",\"c4\",\"c5\",\"c6\",\"c7\",\"c9\"] ``` \n",
    "Labels for the DAC channels that the gates are attached to. (only required if using pygor) \n",
    "\n",
    "``` \"plunger_gates\":[\"c5\",\"c9\"] ``` \n",
    "Labels for the DAC channels that the investigation/plunger gates are attached to. (only required if using pygor) \n",
    "\n",
    "``` \"bias_chans\":[\"c1\"] ``` \n",
    "Label(s) for the DAC channel(s) that control the bias. (only required if using pygor) \n",
    "\n",
    "``` \"bias_vals\":[20] ``` \n",
    "Value(s) to set the bias DAC channel(s) to. (only required if using pygor) \n",
    "\n",
    "``` \"chan_no\":0 ``` \n",
    "0 based index of the channel that is used to measure the device. (only required if using pygor) \n",
    "\n",
    "``` \"save_dir\":\"save_file_name\" ``` \n",
    "Relative path to save tuning data in.\n"
   ]
  }
 ],
 "metadata": {
  "kernelspec": {
   "display_name": "Python 3",
   "language": "python",
   "name": "python3"
  },
  "language_info": {
   "name": ""
  }
 },
 "nbformat": 4,
 "nbformat_minor": 2
}
