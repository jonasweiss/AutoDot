{
 "cells": [
  {
   "cell_type": "markdown",
   "metadata": {},
   "source": [
    "# Running on windows\n",
    "\n",
    "To run the algorithm on a windows computer you need to use a windows subsystem please follow the instructions at the following link: https://docs.microsoft.com/en-us/windows/wsl/install-win10. \n",
    "\n",
    "We have tested [Ubuntu 18.04 LTS](https://www.microsoft.com/en-gb/p/ubuntu-1804-lts/9n9tngvndl3q?rtc=1#activetab=pivot:overviewtab) and shown it works so it is preferred over other distributions.\n",
    "\n",
    "# Setup subsystem\n",
    "Once your windows subsystem is installed and you are logged-in and inside your ~ (home) directory run the following:\n",
    "```\n",
    "wget https://repo.continuum.io/miniconda/Miniconda3-latest-Linux-x86_64.sh\n",
    "```\n",
    "To download the latest version of miniconda.\n",
    "\n",
    "```\n",
    "bash ./Miniconda3-latest-Linux-x86_64.sh\n",
    "```\n",
    "To install miniconda (please select default options).\n",
    "\n",
    "```\n",
    "export PATH=~/miniconda3/bin:$PATH\n",
    "```\n",
    "To activate conda command.\n",
    "\n",
    "# Install AutoDot\n",
    "## From github (only available when repo is public)\n",
    "```\n",
    "git clone https://github.com/oxquantum-repo/AutoDot.git\n",
    "```\n",
    "This will download a copy of the current repo. After this subsystem setup is complete and you can continue to follow either the [quick environment guide](../Playground/README.ipynb) or the [main documentation](../README.ipynb).\n",
    "\n",
    "## From zip\n",
    "Download the AutoDot folder and unzip it into your windows downloads folder.\n",
    "\n",
    "```\n",
    "cp -r /mnt/c/Users/<YOUR USERNAME HERE>/Downloads/AutoDot ~/AutoDot \n",
    "```\n",
    "Please replace <**YOUR USERNAME HERE**> with your windows username. This will copy and paste over the AutoDot folder in your downloads folder to the windows subsystem. After this subsystem setup is complete and you can continue to follow either the [quick environment guide](../Playground/README.ipynb) or the [main documentation](../README.ipynb).\n"
   ]
  },
  {
   "cell_type": "code",
   "execution_count": null,
   "metadata": {},
   "outputs": [],
   "source": []
  }
 ],
 "metadata": {
  "kernelspec": {
   "display_name": "Python 3",
   "language": "python",
   "name": "python3"
  },
  "language_info": {
   "codemirror_mode": {
    "name": "ipython",
    "version": 3
   },
   "file_extension": ".py",
   "mimetype": "text/x-python",
   "name": "python",
   "nbconvert_exporter": "python",
   "pygments_lexer": "ipython3",
   "version": "3.6.11"
  }
 },
 "nbformat": 4,
 "nbformat_minor": 2
}
